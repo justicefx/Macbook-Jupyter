{
 "cells": [
  {
   "cell_type": "markdown",
   "metadata": {},
   "source": [
    "Artificial intelligence is just perceived intelligence. Let's see if we can crudely build an AI system to detect spam."
   ]
  },
  {
   "cell_type": "markdown",
   "metadata": {},
   "source": [
    "What are those rules that we can use and follow that will tell us that a message is spam?\n",
    "\n",
    "1. Uses the following words: \"won\", \"prize\", emojis, \"winner\"\n",
    "2. The domain name belongs in some set of known domains.\n",
    "3. The number of external links\n",
    "4. \"earn money\"\n",
    "5. No email header"
   ]
  },
  {
   "cell_type": "code",
   "execution_count": 8,
   "metadata": {},
   "outputs": [],
   "source": [
    "def is_spam(text, threshold=5):\n",
    "    \"\"\"\n",
    "    Return True if the text is considered spam or not.\n",
    "    String -> Boolean\n",
    "    \"\"\"\n",
    "    \n",
    "    problematic_words = {\"won\", \"prize\", \"winner\", \"click\", \"congratulations\"}\n",
    "    domains_black_listed = {}\n",
    "    \n",
    "    count_problematic = len([word for word in text.split() if word in problematic_words])\n",
    "    \n",
    "    if count_problematic > threshold:\n",
    "        return True\n",
    "    else:\n",
    "        return False"
   ]
  },
  {
   "cell_type": "code",
   "execution_count": 9,
   "metadata": {},
   "outputs": [],
   "source": [
    "example_1 = \"\"\"\n",
    "This email is spam because we are going to use the words likw click and won and winner various times\n",
    "For example you have won a prize, you are a winner click on this link\n",
    "\"\"\"\n",
    "\n",
    "example_2 = \"\"\"This is your boss, please call me.\"\"\""
   ]
  },
  {
   "cell_type": "code",
   "execution_count": 10,
   "metadata": {},
   "outputs": [],
   "source": [
    "assert is_spam(example_1) == True\n",
    "assert is_spam(example_2) == False"
   ]
  },
  {
   "cell_type": "markdown",
   "metadata": {},
   "source": [
    "We have built an expert system. We implemented a hard code set of rules we ourselves have learned from being exposted to examples."
   ]
  },
  {
   "cell_type": "markdown",
   "metadata": {},
   "source": [
    "For ML, scikit-learn Python package is the Python package for ML\n",
    "\n",
    "Supervised: Makes predictions. Uses data and labels (which are the answer or what we want to predict)\n",
    "Unsupervised: Does not use labels AND we don't really make predictions."
   ]
  }
 ],
 "metadata": {
  "kernelspec": {
   "display_name": "Python 3",
   "language": "python",
   "name": "python3"
  },
  "language_info": {
   "codemirror_mode": {
    "name": "ipython",
    "version": 3
   },
   "file_extension": ".py",
   "mimetype": "text/x-python",
   "name": "python",
   "nbconvert_exporter": "python",
   "pygments_lexer": "ipython3",
   "version": "3.8.8"
  }
 },
 "nbformat": 4,
 "nbformat_minor": 4
}
